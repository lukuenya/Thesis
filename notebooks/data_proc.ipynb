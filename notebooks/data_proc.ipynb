{
 "cells": [
  {
   "cell_type": "code",
   "execution_count": 1,
   "metadata": {},
   "outputs": [],
   "source": [
    "import pandas as pd\n",
    "import numpy as np\n"
   ]
  },
  {
   "cell_type": "code",
   "execution_count": 2,
   "metadata": {},
   "outputs": [
    {
     "data": {
      "text/plain": [
       "(147, 845)"
      ]
     },
     "execution_count": 2,
     "metadata": {},
     "output_type": "execute_result"
    }
   ],
   "source": [
    "data = pd.read_excel('../input/data_merged.xlsx')\n",
    "\n",
    "data.shape  "
   ]
  },
  {
   "cell_type": "code",
   "execution_count": 9,
   "metadata": {},
   "outputs": [
    {
     "data": {
      "text/plain": [
       "<Axes: xlabel='Frailty_State_GFST'>"
      ]
     },
     "execution_count": 9,
     "metadata": {},
     "output_type": "execute_result"
    },
    {
     "data": {
      "image/png": "[encoded data removed]",
      "text/plain": [
       "<Figure size 640x480 with 1 Axes>"
      ]
     },
     "metadata": {},
     "output_type": "display_data"
    }
   ],
   "source": [
    "# Plot class distribution to check for class imbalance\n",
    "data['Frailty_State_GFST'].value_counts().plot(kind='bar')\n",
    "\n"
   ]
  },
  {
   "cell_type": "code",
   "execution_count": 10,
   "metadata": {},
   "outputs": [
    {
     "data": {
      "text/plain": [
       "<Axes: xlabel='Fried_State'>"
      ]
     },
     "execution_count": 10,
     "metadata": {},
     "output_type": "execute_result"
    },
    {
     "data": {
      "image/png": "[encoded data removed]",
      "text/plain": [
       "<Figure size 640x480 with 1 Axes>"
      ]
     },
     "metadata": {},
     "output_type": "display_data"
    }
   ],
   "source": [
    "# class imbalance for FRIED\n",
    "data['Fried_State'].value_counts().plot(kind='bar')"
   ]
  },
  {
   "cell_type": "code",
   "execution_count": 15,
   "metadata": {},
   "outputs": [
    {
     "name": "stdout",
     "output_type": "stream",
     "text": [
      "4.59375\n",
      "3.5853658536585367\n",
      "1.0\n",
      "1.0\n"
     ]
    }
   ],
   "source": [
    "pos_weight_class_fried= len(data['Fried_State'] - np.sum(data['Fried_State'])) / np.sum(data['Fried_State'])\n",
    "print(pos_weight_class_fried)\n",
    "\n",
    "pos_weight_class_gfst= len(data['Frailty_State_GFST'] - np.sum(data['Frailty_State_GFST'])) / np.sum(data['Frailty_State_GFST'])\n",
    "print(pos_weight_class_gfst)\n",
    "\n",
    "\n",
    "# Or : sum(negative_class) / sum(positive_class)\n",
    "fried_ratio = np.sum(data['Fried_State']) / np.sum(data['Fried_State'])\n",
    "print(fried_ratio)\n",
    "\n",
    "gfst_ratio = np.sum(data['Frailty_State_GFST']) / np.sum(data['Frailty_State_GFST'])\n",
    "print(gfst_ratio)"
   ]
  },
  {
   "cell_type": "code",
   "execution_count": 6,
   "metadata": {},
   "outputs": [
    {
     "name": "stdout",
     "output_type": "stream",
     "text": [
      "(144, 421) (115, 108) (127, 312) (96, 14)\n"
     ]
    },
    {
     "data": {
      "text/plain": [
       "(147, 852)"
      ]
     },
     "execution_count": 6,
     "metadata": {},
     "output_type": "execute_result"
    }
   ],
   "source": [
    "# merge data\n",
    "# datasets shape\n",
    "print(df_questions.shape, df_gait.shape, df_posture.shape, df_grip.shape)\n",
    "\n",
    "# merge\n",
    "df_merged = pd.merge(df_questions, df_posture, on='Foldername', how='outer')\n",
    "df_merged = pd.merge(df_merged, df_gait, on='Foldername', how='outer')\n",
    "df_merged = pd.merge(df_merged, df_grip, on='Foldername', how='outer')\n",
    "\n",
    "df_merged.shape"
   ]
  },
  {
   "cell_type": "code",
   "execution_count": 13,
   "metadata": {},
   "outputs": [
    {
     "name": "stderr",
     "output_type": "stream",
     "text": [
      "C:\\Users\\matth\\AppData\\Local\\Temp\\ipykernel_19244\\3867387058.py:12: FutureWarning: DataFrame.applymap has been deprecated. Use DataFrame.map instead.\n",
      "  df_merged = df_merged.applymap(custom_encoding)\n"
     ]
    }
   ],
   "source": [
    "# encode False -> 0, True -> 1 in all columns\n",
    "def custom_encoding(x):\n",
    "    if x == False:\n",
    "        return 0\n",
    "    elif x == True:\n",
    "        return 1\n",
    "    elif pd.isnull(x):\n",
    "        return np.nan\n",
    "    else:\n",
    "        return x    \n",
    "\n",
    "df_merged = df_merged.applymap(custom_encoding)\n"
   ]
  },
  {
   "cell_type": "code",
   "execution_count": 14,
   "metadata": {},
   "outputs": [],
   "source": [
    "# save\n",
    "df_merged.to_excel('../input/data_merged.xlsx', index=False)"
   ]
  },
  {
   "cell_type": "code",
   "execution_count": 7,
   "metadata": {},
   "outputs": [
    {
     "name": "stdout",
     "output_type": "stream",
     "text": [
      "Index(['Foldername', 'bilan_date_baseline_romberg',\n",
      "       'bilan_date_follow-up_romberg'],\n",
      "      dtype='object')\n"
     ]
    }
   ],
   "source": [
    "object_columns = data.select_dtypes(include=['object']).columns\n",
    "\n",
    "print(object_columns)"
   ]
  }
 ],
 "metadata": {
  "kernelspec": {
   "display_name": "thesis_env",
   "language": "python",
   "name": "python3"
  },
  "language_info": {
   "codemirror_mode": {
    "name": "ipython",
    "version": 3
   },
   "file_extension": ".py",
   "mimetype": "text/x-python",
   "name": "python",
   "nbconvert_exporter": "python",
   "pygments_lexer": "ipython3",
   "version": "3.12.8"
  }
 },
 "nbformat": 4,
 "nbformat_minor": 2
}
