{
 "cells": [
  {
   "cell_type": "code",
   "execution_count": 2,
   "metadata": {},
   "outputs": [],
   "source": [
    "import numpy as np\n",
    "import pandas as pd\n",
    "import matplotlib.pyplot as plt\n",
    "import seaborn as sns\n",
    "import os\n",
    "import sys"
   ]
  },
  {
   "cell_type": "code",
   "execution_count": 3,
   "metadata": {},
   "outputs": [],
   "source": [
    "# Load the datasets\n",
    "data_path = \"p:/Thesis/input\"\n",
    "# Questions\n",
    "df_questions = pd.read_excel(f\"{data_path}/dataset/dataset_with_renamed_columns.xlsx\")\n",
    "\n",
    "# Gait\n",
    "df_gait = pd.read_excel(f\"{data_path}/dataset/gait_features_wide.xlsx\")\n",
    "\n",
    "# Posture\n",
    "df_posture = pd.read_excel(f\"{data_path}/dataset/posture_features_wide.xlsx\")\n",
    "\n",
    "# Grip\n",
    "df_grip = pd.read_excel(f\"{data_path}/dataset/grip_features_wide.xlsx\")"
   ]
  },
  {
   "cell_type": "code",
   "execution_count": 4,
   "metadata": {},
   "outputs": [
    {
     "name": "stdout",
     "output_type": "stream",
     "text": [
      "(145, 421) (115, 108) (127, 312) (96, 12)\n"
     ]
    }
   ],
   "source": [
    "# datasets shape\n",
    "print(df_questions.shape, df_gait.shape, df_posture.shape, df_grip.shape)"
   ]
  },
  {
   "cell_type": "markdown",
   "metadata": {},
   "source": [
    "## Questionnnaire"
   ]
  },
  {
   "cell_type": "code",
   "execution_count": 6,
   "metadata": {},
   "outputs": [
    {
     "data": {
      "text/plain": [
       "(149, 519)"
      ]
     },
     "execution_count": 6,
     "metadata": {},
     "output_type": "execute_result"
    }
   ],
   "source": [
    "# Check data shape\n",
    "df_questions.shape"
   ]
  },
  {
   "cell_type": "markdown",
   "metadata": {},
   "source": [
    "### Inclusion Columns\n",
    "\n",
    "columns to be deleted : Refer to Word"
   ]
  },
  {
   "cell_type": "code",
   "execution_count": 9,
   "metadata": {},
   "outputs": [
    {
     "data": {
      "text/plain": [
       "0      RETRAITÉ(E)\n",
       "1      RETRAITÉ(E)\n",
       "2      RETRAITÉ(E)\n",
       "3      RETRAITÉ(E)\n",
       "4              NaN\n",
       "          ...     \n",
       "144    RETRAITÉ(E)\n",
       "145            NaN\n",
       "146            NaN\n",
       "147            NaN\n",
       "148            NaN\n",
       "Name: statut, Length: 149, dtype: object"
      ]
     },
     "execution_count": 9,
     "metadata": {},
     "output_type": "execute_result"
    }
   ],
   "source": [
    "# Values of column 'MMSE02. NIVEAU SOCIO CULTUREL' as a list\n",
    "df_questions[\"statut\"]"
   ]
  },
  {
   "cell_type": "code",
   "execution_count": 10,
   "metadata": {},
   "outputs": [],
   "source": [
    "# save to excel\n",
    "input_path = \"p:/Thesis/input\"\n",
    "df_questions.to_excel(f\"{input_path}/df_questions_v1.xlsx\", index=False)\n"
   ]
  },
  {
   "cell_type": "code",
   "execution_count": 11,
   "metadata": {},
   "outputs": [
    {
     "name": "stdout",
     "output_type": "stream",
     "text": [
      "Number of measurements per participant:\n",
      "1    145\n",
      "Name: count, dtype: int64\n"
     ]
    }
   ],
   "source": [
    "# number of measurements per participant\n",
    "measurements_counts = df_questions.groupby('Foldername').size()\n",
    "print(\"Number of measurements per participant:\")\n",
    "print(measurements_counts.value_counts())"
   ]
  },
  {
   "cell_type": "markdown",
   "metadata": {},
   "source": [
    "## Gait Features"
   ]
  },
  {
   "cell_type": "code",
   "execution_count": 5,
   "metadata": {},
   "outputs": [
    {
     "data": {
      "text/plain": [
       "(241, 55)"
      ]
     },
     "execution_count": 5,
     "metadata": {},
     "output_type": "execute_result"
    }
   ],
   "source": [
    "df_gait.shape"
   ]
  },
  {
   "cell_type": "code",
   "execution_count": 6,
   "metadata": {},
   "outputs": [
    {
     "data": {
      "text/plain": [
       "(212, 55)"
      ]
     },
     "execution_count": 6,
     "metadata": {},
     "output_type": "execute_result"
    }
   ],
   "source": [
    "# Drop rows with pese data\n",
    "sys.path.append(os.path.abspath(\"../src\"))\n",
    "from columns_to_drop import rows_to_drop_gait\n",
    "\n",
    "# list of the bilan ids to drop\n",
    "bilan_ids_to_drop = list(rows_to_drop_gait.values())\n",
    "\n",
    "# drop\n",
    "df_gait_dropped = df_gait[~df_gait[\"bilan_id\"].isin(bilan_ids_to_drop)]\n",
    "\n",
    "df_gait_dropped.shape"
   ]
  },
  {
   "cell_type": "code",
   "execution_count": 7,
   "metadata": {},
   "outputs": [
    {
     "name": "stdout",
     "output_type": "stream",
     "text": [
      "Number of measurements per participant:\n",
      "2    97\n",
      "1    18\n",
      "Name: count, dtype: int64\n"
     ]
    }
   ],
   "source": [
    "# number of measurements per participant\n",
    "measurements_counts = df_gait_dropped.groupby('Foldername').size()\n",
    "print(\"Number of measurements per participant:\")\n",
    "print(measurements_counts.value_counts())"
   ]
  },
  {
   "cell_type": "code",
   "execution_count": 9,
   "metadata": {},
   "outputs": [
    {
     "name": "stdout",
     "output_type": "stream",
     "text": [
      "=== Dataset Overview ===\n",
      "\n",
      "Long format shape: (212, 57)\n",
      "Wide format shape: (115, 110)\n"
     ]
    }
   ],
   "source": [
    "from format_longitudinal import create_long_format, create_wide_format\n",
    "\n",
    "# create both formats\n",
    "df_long = create_long_format(df_gait_dropped)\n",
    "df_wide = create_wide_format(df_gait_dropped)\n",
    "\n",
    "# check shape\n",
    "print(\"=== Dataset Overview ===\")\n",
    "print(\"\\nLong format shape:\", df_long.shape)\n",
    "print(\"Wide format shape:\", df_wide.shape)\n"
   ]
  },
  {
   "cell_type": "code",
   "execution_count": 10,
   "metadata": {},
   "outputs": [],
   "source": [
    "# # save to excel\n",
    "# input_path = \"p:/Thesis/input\"\n",
    "# df_long.to_excel(f\"{input_path}/gait_features_long.xlsx\", index=False)\n",
    "# df_wide.to_excel(f\"{input_path}/gait_features_wide.xlsx\", index=False)"
   ]
  },
  {
   "cell_type": "markdown",
   "metadata": {},
   "source": [
    "## Posture Features"
   ]
  },
  {
   "cell_type": "code",
   "execution_count": 46,
   "metadata": {},
   "outputs": [
    {
     "data": {
      "text/plain": [
       "(219, 157)"
      ]
     },
     "execution_count": 46,
     "metadata": {},
     "output_type": "execute_result"
    }
   ],
   "source": [
    "df_posture = pd.read_excel('../input/posture_features.xlsx')\n",
    "\n",
    "df_posture.shape"
   ]
  },
  {
   "cell_type": "code",
   "execution_count": 47,
   "metadata": {},
   "outputs": [
    {
     "name": "stdout",
     "output_type": "stream",
     "text": [
      "Number of measurements per participant:\n",
      "2    92\n",
      "1    35\n",
      "Name: count, dtype: int64\n"
     ]
    }
   ],
   "source": [
    "# number of measurements per participant\n",
    "measurements_counts = df_posture.groupby('Foldername').size()\n",
    "print(\"Number of measurements per participant:\")\n",
    "print(measurements_counts.value_counts())"
   ]
  },
  {
   "cell_type": "code",
   "execution_count": 50,
   "metadata": {},
   "outputs": [
    {
     "data": {
      "text/plain": [
       "Index(['CON007LJJ', 'CON008LMA', 'CON015BRY', 'DUP002BME', 'DUP004LC',\n",
       "       'DUP006VAM', 'FRA009RMI', 'FRA010DMA', 'FRA011VJR', 'FRA013PMD',\n",
       "       'FRA030DHI', 'FRA036GMM', 'FRA041HJA', 'FRA045AJN', 'FRA046TJ',\n",
       "       'FRA047BHP', 'FRA049PJM', 'FRA052IHF', 'FRA063FML', 'FRA065ML',\n",
       "       'FRA069DMO', 'HUC001HMR', 'LEG014JFR', 'LEG015ANN', 'LEG021BCH',\n",
       "       'LEG023HCR', 'LEG031DAJ', 'LEG034KLG', 'LEG035PCJ', 'LEG041DUS',\n",
       "       'LEG042HJO', 'LEG047VSI', 'LEG049FAL', 'LEG050LMN', 'MOU003FV'],\n",
       "      dtype='object', name='Foldername')"
      ]
     },
     "execution_count": 50,
     "metadata": {},
     "output_type": "execute_result"
    }
   ],
   "source": [
    "# get the Foldername that have only one measurement\n",
    "single_measurement = measurements_counts[measurements_counts == 1].index\n",
    "single_measurement"
   ]
  },
  {
   "cell_type": "code",
   "execution_count": 52,
   "metadata": {},
   "outputs": [
    {
     "name": "stdout",
     "output_type": "stream",
     "text": [
      "=== Dataset Overview ===\n",
      "\n",
      "Long format shape: (219, 159)\n",
      "Wide format shape: (127, 314)\n"
     ]
    }
   ],
   "source": [
    "sys.path.append(os.path.abspath(\"../src\"))\n",
    "from format_longitudinal import create_long_format, create_wide_format\n",
    "\n",
    "# create both formats\n",
    "df_posture_long = create_long_format(df_posture)\n",
    "df_posture_wide = create_wide_format(df_posture)\n",
    "\n",
    "# check shape\n",
    "print(\"=== Dataset Overview ===\")\n",
    "print(\"\\nLong format shape:\", df_posture_long.shape)\n",
    "print(\"Wide format shape:\", df_posture_wide.shape)"
   ]
  },
  {
   "cell_type": "code",
   "execution_count": 53,
   "metadata": {},
   "outputs": [],
   "source": [
    "# # save to excel\n",
    "# input_path = \"p:/Thesis/input\"\n",
    "# df_posture_long.to_excel(f\"{input_path}/posture_features_long.xlsx\", index=False)\n",
    "# df_posture_wide.to_excel(f\"{input_path}/posture_features_wide.xlsx\", index=False)"
   ]
  },
  {
   "cell_type": "markdown",
   "metadata": {},
   "source": [
    "## GRIP"
   ]
  },
  {
   "cell_type": "code",
   "execution_count": 14,
   "metadata": {},
   "outputs": [
    {
     "data": {
      "text/plain": [
       "(135, 7)"
      ]
     },
     "execution_count": 14,
     "metadata": {},
     "output_type": "execute_result"
    }
   ],
   "source": [
    "df_grip.shape"
   ]
  },
  {
   "cell_type": "code",
   "execution_count": 15,
   "metadata": {},
   "outputs": [
    {
     "name": "stdout",
     "output_type": "stream",
     "text": [
      "Number of measurements per participant:\n",
      "1    57\n",
      "2    39\n",
      "Name: count, dtype: int64\n"
     ]
    }
   ],
   "source": [
    "# number of measurements per participant\n",
    "measurements_counts = df_grip.groupby('Foldername').size()\n",
    "print(\"Number of measurements per participant:\")\n",
    "print(measurements_counts.value_counts())"
   ]
  },
  {
   "cell_type": "code",
   "execution_count": 17,
   "metadata": {},
   "outputs": [
    {
     "name": "stdout",
     "output_type": "stream",
     "text": [
      "=== Dataset Overview ===\n",
      "\n",
      "Long format shape: (135, 9)\n",
      "Wide format shape: (96, 14)\n"
     ]
    }
   ],
   "source": [
    "sys.path.append(os.path.abspath(\"../src\"))\n",
    "from format_longitudinal import create_long_format, create_wide_format\n",
    "\n",
    "# create both formats\n",
    "df_grip_long = create_long_format(df_grip)\n",
    "df_grip_wide = create_wide_format(df_grip)\n",
    "\n",
    "# check shape\n",
    "print(\"=== Dataset Overview ===\")\n",
    "print(\"\\nLong format shape:\", df_grip_long.shape)\n",
    "print(\"Wide format shape:\", df_grip_wide.shape)"
   ]
  },
  {
   "cell_type": "code",
   "execution_count": 18,
   "metadata": {},
   "outputs": [],
   "source": [
    "# save to excel\n",
    "input_path = \"p:/Thesis/input\"\n",
    "df_grip_long.to_excel(f\"{input_path}/grip_features_long.xlsx\", index=False)\n",
    "df_grip_wide.to_excel(f\"{input_path}/grip_features_wide.xlsx\", index=False)"
   ]
  },
  {
   "cell_type": "markdown",
   "metadata": {},
   "source": [
    "## Merge"
   ]
  },
  {
   "cell_type": "code",
   "execution_count": 6,
   "metadata": {},
   "outputs": [
    {
     "name": "stdout",
     "output_type": "stream",
     "text": [
      "(145, 421) (115, 108) (127, 312) (96, 12)\n"
     ]
    }
   ],
   "source": [
    "# datasets shape\n",
    "print(df_questions.shape, df_gait.shape, df_posture.shape, df_grip.shape)\n"
   ]
  },
  {
   "cell_type": "code",
   "execution_count": 6,
   "metadata": {},
   "outputs": [
    {
     "data": {
      "text/plain": [
       "(145, 421)"
      ]
     },
     "execution_count": 6,
     "metadata": {},
     "output_type": "execute_result"
    }
   ],
   "source": [
    "# clean empty rows in df_questions\n",
    "df_questions = df_questions.dropna(how='all')\n",
    "\n",
    "df_questions.shape"
   ]
  },
  {
   "cell_type": "code",
   "execution_count": 7,
   "metadata": {},
   "outputs": [
    {
     "data": {
      "text/plain": [
       "(148, 850)"
      ]
     },
     "execution_count": 7,
     "metadata": {},
     "output_type": "execute_result"
    }
   ],
   "source": [
    "# Merge the 4 datasets on 'Foldername'\n",
    "df_merged = pd.merge(df_questions, df_posture, on='Foldername', how='outer')\n",
    "\n",
    "df_merged = pd.merge(df_merged, df_gait, on='Foldername', how='outer')\n",
    "\n",
    "df_merged = pd.merge(df_merged, df_grip, on='Foldername', how='outer')\n",
    "\n",
    "df_merged.shape\n"
   ]
  },
  {
   "cell_type": "code",
   "execution_count": 8,
   "metadata": {},
   "outputs": [
    {
     "name": "stdout",
     "output_type": "stream",
     "text": [
      "(148, 850) Foldername                 0\n",
      "Chute 1                   31\n",
      "Chute 2                   31\n",
      "Chute 3                   31\n",
      "Chute 4                   31\n",
      "                        ... \n",
      "leftHandV2_baseline       52\n",
      "leftHandV2_follow-up     109\n",
      "rightHandV2_baseline      52\n",
      "rightHandV2_follow-up    109\n",
      "has_followup_grip         52\n",
      "Length: 850, dtype: int64\n"
     ]
    }
   ],
   "source": [
    "\n",
    "print(df_merged.shape, df_merged.isnull().sum())\n"
   ]
  },
  {
   "cell_type": "code",
   "execution_count": 8,
   "metadata": {},
   "outputs": [],
   "source": [
    "# save to excel\n",
    "input_path = \"p:/Thesis/input\"\n",
    "df_merged.to_excel(f\"{input_path}/df_merged_v3.xlsx\", index=False)"
   ]
  },
  {
   "cell_type": "code",
   "execution_count": 9,
   "metadata": {},
   "outputs": [],
   "source": [
    "# inner join\n",
    "merged_dataset_v3_inner = df_questions.merge(df_posture, on='Foldername', how='inner') \\\n",
    "                          .merge(df_gait, on='Foldername', how='inner') \\\n",
    "                          .merge(df_grip, on='Foldername', how='inner')\n"
   ]
  },
  {
   "cell_type": "code",
   "execution_count": 10,
   "metadata": {},
   "outputs": [
    {
     "data": {
      "text/plain": [
       "(80, 850)"
      ]
     },
     "execution_count": 10,
     "metadata": {},
     "output_type": "execute_result"
    }
   ],
   "source": [
    "merged_dataset_v3_inner.shape"
   ]
  },
  {
   "cell_type": "code",
   "execution_count": 12,
   "metadata": {},
   "outputs": [],
   "source": [
    "# save to excel\n",
    "input_path = \"p:/Thesis/input\"\n",
    "merged_dataset_v3_inner.to_excel(f\"{input_path}/df_merged_v3_inner.xlsx\", index=False)"
   ]
  },
  {
   "cell_type": "code",
   "execution_count": 14,
   "metadata": {},
   "outputs": [
    {
     "name": "stdout",
     "output_type": "stream",
     "text": [
      "Duplicate detected: VINICODEX0004_SQ010_\n",
      "Column mapping saved to 'column_mapping.html'.\n",
      "Dataset with renamed columns saved to 'dataset_with_renamed_columns.csv'.\n",
      "Unmatched columns saved to 'unmatched_columns.log'.\n"
     ]
    }
   ],
   "source": [
    "'''\n",
    "    Code to extract code from column names\n",
    "    i.e 'FRAGIRE02. Cochez la réponse qui conient le mieaux parmi celles proposés.  « Combien de fois avez-vous été hospitalisé(e) au cours des 6 derniers mois ? »' becomes 'FRAGIRE02'\n",
    "'''\n",
    "import pandas as pd\n",
    "import re\n",
    "\n",
    "\n",
    "# Function to extract the code from column names\n",
    "def extract_code(column_name):\n",
    "    # Case 1: Match codes like \"PREFIX[CODE]\" or \"PREFIX(CODE)\"\n",
    "    match = re.match(r\"([A-Z0-9]+)\\[([A-Z0-9_]+)\\]\", column_name, re.IGNORECASE)\n",
    "    if match:\n",
    "        return f\"{match.group(1)}_{match.group(2)}_\"\n",
    "\n",
    "    # Case 2: Match codes ending with a dot (e.g., \"CODE.\")\n",
    "    match_dot = re.match(r\"([A-Z0-9]+)\\.\\s\", column_name, re.IGNORECASE)\n",
    "    if match_dot:\n",
    "        return f\"{match_dot.group(1)}\"\n",
    "\n",
    "    # Fallback: Return original column name\n",
    "    return column_name\n",
    "\n",
    "# Create a mapping of original to renamed columns\n",
    "mapping = {}\n",
    "unmatched_columns = []\n",
    "\n",
    "for col in df.columns:\n",
    "    renamed = extract_code(col)\n",
    "    if renamed in mapping:\n",
    "        print(f\"Duplicate detected: {renamed}\")\n",
    "        renamed = f\"{renamed}_DUPLICATE\"\n",
    "    mapping[renamed] = col\n",
    "    if renamed == col:  # If the column wasn't changed, log it\n",
    "        unmatched_columns.append(col)\n",
    "\n",
    "# Save unmatched columns to a log file for review\n",
    "with open(\"unmatched_columns.log\", \"w\") as file:\n",
    "    for col in unmatched_columns:\n",
    "        file.write(col + \"\\n\")\n",
    "\n",
    "# Save mapping to an HTML file for readability\n",
    "with open(\"column_mapping.html\", \"w\") as file:\n",
    "    file.write(\"<html><head><style>\")\n",
    "    file.write(\"body { font-family: Arial, sans-serif; }\")\n",
    "    file.write(\".original { color: blue; }\")\n",
    "    file.write(\".renamed { color: green; font-weight: bold; }\")\n",
    "    file.write(\"</style></head><body>\\n\")\n",
    "    file.write(\"<h2>Column Mapping</h2>\\n<ul>\\n\")\n",
    "    for renamed, original in mapping.items():\n",
    "        file.write(\n",
    "            f\"<li><span class='renamed'>{renamed}</span> : <span class='original'>{original}</span></li>\\n\"\n",
    "        )\n",
    "    file.write(\"</ul>\\n</body></html>\")\n",
    "\n",
    "# Rename columns in the DataFrame\n",
    "df.columns = list(mapping.keys())\n",
    "\n",
    "# Save the updated DataFrame (optional)\n",
    "df.to_excel(\"dataset_with_renamed_columns.xlsx\", index=False)\n",
    "\n",
    "print(\"Column mapping saved to 'column_mapping.html'.\")\n",
    "print(\"Dataset with renamed columns saved to 'dataset_with_renamed_columns.csv'.\")\n",
    "print(\"Unmatched columns saved to 'unmatched_columns.log'.\")\n",
    "\n",
    "\n"
   ]
  },
  {
   "cell_type": "code",
   "execution_count": 3,
   "metadata": {},
   "outputs": [
    {
     "name": "stdout",
     "output_type": "stream",
     "text": [
      "Column names have been updated using the mapping from the .html file.\n"
     ]
    }
   ],
   "source": [
    "import pandas as pd\n",
    "from bs4 import BeautifulSoup\n",
    "\n",
    "# Step 1: Extract mapping from the .html file\n",
    "html_file = \"./column_mapping.html\"\n",
    "with open(html_file, \"r\", encoding=\"utf-8\") as file:\n",
    "    soup = BeautifulSoup(file, \"html.parser\")\n",
    "\n",
    "# Find all mapping items\n",
    "mapping = {}\n",
    "for li in soup.find_all(\"li\"):\n",
    "    renamed = li.find(\"span\", class_=\"renamed\").text.strip()\n",
    "    original = li.find(\"span\", class_=\"original\").text.strip()\n",
    "    mapping[original] = renamed  # Map original to renamed\n",
    "\n",
    "# Step 2: Load the new dataset\n",
    "new_dataset = \"./df_merged_v2.xlsx\"\n",
    "df_new = pd.read_excel(new_dataset)\n",
    "\n",
    "# Step 3: Apply the mapping to rename the columns\n",
    "df_new.rename(columns=mapping, inplace=True)\n",
    "\n",
    "# Step 4: Save the updated dataset\n",
    "df_new.to_excel(\"new_dataset_with_renamed_columns.xlsx\", index=False)\n",
    "\n",
    "print(\"Column names have been updated using the mapping from the .html file.\")\n"
   ]
  },
  {
   "cell_type": "code",
   "execution_count": null,
   "metadata": {},
   "outputs": [],
   "source": []
  }
 ],
 "metadata": {
  "kernelspec": {
   "display_name": "sklearn-env",
   "language": "python",
   "name": "python3"
  },
  "language_info": {
   "codemirror_mode": {
    "name": "ipython",
    "version": 3
   },
   "file_extension": ".py",
   "mimetype": "text/x-python",
   "name": "python",
   "nbconvert_exporter": "python",
   "pygments_lexer": "ipython3",
   "version": "3.13.0"
  }
 },
 "nbformat": 4,
 "nbformat_minor": 2
}
