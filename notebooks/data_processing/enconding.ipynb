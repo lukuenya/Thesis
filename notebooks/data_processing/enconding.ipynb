{
 "cells": [
  {
   "cell_type": "code",
   "execution_count": 1,
   "metadata": {},
   "outputs": [],
   "source": [
    "import pandas as pd\n",
    "import numpy as np\n",
    "import re\n",
    "import datetime"
   ]
  },
  {
   "cell_type": "code",
   "execution_count": 2,
   "metadata": {},
   "outputs": [],
   "source": [
    "# Importing the dataset\n",
    "df_questions = pd.read_excel('../input/dataset/df_questions.xlsx')\n",
    "data = df_questions.copy()"
   ]
  },
  {
   "cell_type": "code",
   "execution_count": 3,
   "metadata": {},
   "outputs": [
    {
     "name": "stdout",
     "output_type": "stream",
     "text": [
      "<class 'pandas.core.frame.DataFrame'>\n",
      "RangeIndex: 145 entries, 0 to 144\n",
      "Columns: 419 entries, Foldername to FRIED TOTAL Version 1 (perte de poids mesuré-vitesse SPPB)\n",
      "dtypes: float64(180), int64(1), object(238)\n",
      "memory usage: 474.8+ KB\n"
     ]
    }
   ],
   "source": [
    "data.info()"
   ]
  },
  {
   "cell_type": "markdown",
   "metadata": {},
   "source": [
    "Handling date de naissance"
   ]
  },
  {
   "cell_type": "markdown",
   "metadata": {},
   "source": [
    "Custom Encoding #0 : Oui & Non"
   ]
  },
  {
   "cell_type": "code",
   "execution_count": 5,
   "metadata": {},
   "outputs": [
    {
     "name": "stderr",
     "output_type": "stream",
     "text": [
      "C:\\Users\\matth\\AppData\\Local\\Temp\\ipykernel_12084\\45301607.py:19: FutureWarning: DataFrame.applymap has been deprecated. Use DataFrame.map instead.\n",
      "  data = data.applymap(custom_encoding_0)\n"
     ]
    }
   ],
   "source": [
    "def custom_encoding_0(x):\n",
    "    \"\"\"\n",
    "    Encode 'Oui' and 'Non' to 1 and 0\n",
    "    'F' (Female) and 'M' (Male) to 1 and 0\n",
    "    \"\"\"\n",
    "    if x in ['Non', 'NON (2)', 'Non (0)', 'NON ( 0 points)', 'N', 'M']:\n",
    "        return 0\n",
    "    elif x in ['Oui', 'OUI (1)', 'Oui (1) (Spécifier)', 'OUI (4 points)', 'O', 'F']:\n",
    "        return 1\n",
    "    elif x == 'PARFOIS ( 2 points)':\n",
    "        return 0.5\n",
    "    elif x == 'NaN':\n",
    "        return np.nan\n",
    "    elif x == 'Ne sait pas':\n",
    "        return np.nan\n",
    "    else:\n",
    "        return x\n",
    "    \n",
    "data = data.applymap(custom_encoding_0)"
   ]
  },
  {
   "cell_type": "markdown",
   "metadata": {},
   "source": [
    "HADS001"
   ]
  },
  {
   "cell_type": "code",
   "execution_count": 17,
   "metadata": {},
   "outputs": [],
   "source": [
    "# Encoding 'Jamais' -> `0`, 'Souvent' -> `1`, 'De temps en temps' -> `2`, 'La plupart du temps' -> `3`\n",
    "def custom_encoding_1(x):\n",
    "    if x == 'Jamais':\n",
    "        return 0\n",
    "    elif x == 'Souvent':\n",
    "        return 2\n",
    "    elif x == 'De temps en temps':\n",
    "        return 1\n",
    "    elif x == 'La plupart du temps':\n",
    "        return 3\n",
    "    elif pd.isnull(x):\n",
    "        return np.nan\n",
    "    else:\n",
    "        return x\n",
    "    \n",
    "data['HADS001. 1. Je me sens tendu(e) ou énervé(e) :'] = data['HADS001. 1. Je me sens tendu(e) ou énervé(e) :'].apply(custom_encoding_1)\n"
   ]
  },
  {
   "cell_type": "markdown",
   "metadata": {},
   "source": [
    "HADS002"
   ]
  },
  {
   "cell_type": "code",
   "execution_count": 18,
   "metadata": {},
   "outputs": [],
   "source": [
    "# Encoding 'Pas autant' -> `0`, 'Un peu seulement' -> `1`, 'Presque plus' -> `2`, 'Oui, tout autant' -> `3`\n",
    "def custom_encoding_2(x):\n",
    "    if x == 'Pas autant':\n",
    "        return 2\n",
    "    elif x == 'Un peu seulement':\n",
    "        return 1\n",
    "    elif x == 'Presque plus':\n",
    "        return 0\n",
    "    elif x == 'Oui, tout autant':\n",
    "        return 3\n",
    "    elif pd.isnull(x):\n",
    "        return np.nan\n",
    "    else:\n",
    "        return x\n",
    "    \n",
    "data['HADS002. 2. Je prends plaisir aux mêmes choses qu’autrefois :'] = data['HADS002. 2. Je prends plaisir aux mêmes choses qu’autrefois :'].apply(custom_encoding_2)"
   ]
  },
  {
   "cell_type": "code",
   "execution_count": 19,
   "metadata": {},
   "outputs": [],
   "source": [
    "# Encoding 'Pas du tout' -> `0`, 'Un peu, mais cela ne m’inquiète pas' -> `1`, 'Oui, mais ce n’est pas trop grave' -> `2`, 'Oui, très nettement' -> `3`\n",
    "def custom_encoding_3(x):\n",
    "    if x == 'Pas du tout':\n",
    "        return 0\n",
    "    elif x == 'Un peu, mais cela ne m’inquiète pas':\n",
    "        return 1\n",
    "    elif x == 'Oui, mais ce n’est pas trop grave':\n",
    "        return 2\n",
    "    elif x == 'Oui, très nettement':\n",
    "        return 3\n",
    "    elif pd.isnull(x):\n",
    "        return np.nan\n",
    "    else:\n",
    "        return x\n",
    "    \n",
    "data['HADS003. 3. J’ai une sensation de peur comme si quelque chose d’horrible allait m’arriver:'] = data['HADS003. 3. J’ai une sensation de peur comme si quelque chose d’horrible allait m’arriver:'].apply(custom_encoding_3)\n"
   ]
  },
  {
   "cell_type": "code",
   "execution_count": 20,
   "metadata": {},
   "outputs": [],
   "source": [
    "# Encoding 'Vraiment moins qu’avant' -> `0`, 'Plus du tout' -> `1`, 'Plus autant qu’avant' -> `2`, 'Autant que par le passé' -> `3`\n",
    "def custom_encoding_4(x):\n",
    "    if x == 'Vraiment moins qu’avant':\n",
    "        return 1\n",
    "    elif x == 'Plus du tout':\n",
    "        return 0\n",
    "    elif x == 'Plus autant qu’avant':\n",
    "        return 2\n",
    "    elif x == 'Autant que par le passé':\n",
    "        return 3\n",
    "    elif pd.isnull(x):\n",
    "        return np.nan\n",
    "    else:\n",
    "        return x\n",
    "    \n",
    "data['HADS004. 4. Je ris facilement et vois le bon côté des choses :'] = data['HADS004. 4. Je ris facilement et vois le bon côté des choses :'].apply(custom_encoding_4)\n"
   ]
  },
  {
   "cell_type": "code",
   "execution_count": 21,
   "metadata": {},
   "outputs": [],
   "source": [
    "# Encoding 'Très occasionnellement' -> `0`, 'Occasionnellement' -> `1`, 'Assez souvent' -> `2`, 'Très souvent' -> `3`\n",
    "def custom_encoding_5(x):\n",
    "    if x == 'Très occasionnellement':\n",
    "        return 0\n",
    "    elif x == 'Occasionnellement':\n",
    "        return 1\n",
    "    elif x == 'Assez souvent':\n",
    "        return 2\n",
    "    elif x == 'Très souvent':\n",
    "        return 3\n",
    "    elif pd.isnull(x):\n",
    "        return np.nan\n",
    "    else:\n",
    "        return x\n",
    "    \n",
    "data['HADS005. 5. Je me fais du souci :'] = data['HADS005. 5. Je me fais du souci :'].apply(custom_encoding_5)"
   ]
  },
  {
   "cell_type": "code",
   "execution_count": 22,
   "metadata": {},
   "outputs": [],
   "source": [
    "# Encoding 'Rarement' -> `0`, 'Assez souvent' -> `1`, 'La plupart du temps' -> `2`\n",
    "def custom_encoding_6(x):\n",
    "    if x == 'Rarement':\n",
    "        return 0\n",
    "    elif x == 'Assez souvent':\n",
    "        return 1\n",
    "    elif x == 'La plupart du temps':\n",
    "        return 2\n",
    "    elif pd.isnull(x):\n",
    "        return np.nan\n",
    "    else:\n",
    "        return x\n",
    "    \n",
    "data['HADS006. 6. Je suis de bonne humeur :'] = data['HADS006. 6. Je suis de bonne humeur :'].apply(custom_encoding_6)"
   ]
  },
  {
   "cell_type": "code",
   "execution_count": 23,
   "metadata": {},
   "outputs": [],
   "source": [
    "# Encoding 'Jamais' -> `0`, 'Rarement' -> `1`, 'Oui, en général' -> `2`, 'Oui, quoi qu’il arrive' -> `3`\n",
    "def custom_encoding_7(x):\n",
    "    if x == 'Jamais':\n",
    "        return 0\n",
    "    elif x == 'Rarement':\n",
    "        return 1\n",
    "    elif x == 'Oui, en général':\n",
    "        return 2\n",
    "    elif x == 'Oui, quoi qu’il arrive':\n",
    "        return 3\n",
    "    elif pd.isnull(x):\n",
    "        return np.nan\n",
    "    else:\n",
    "        return x\n",
    "    \n",
    "data['HADS007. 7. Je peux rester tranquillement assis(e) à ne rien faire et me sentir décontracté(e) :'] = data['HADS007. 7. Je peux rester tranquillement assis(e) à ne rien faire et me sentir décontracté(e) :'].apply(custom_encoding_7)\n"
   ]
  },
  {
   "cell_type": "code",
   "execution_count": 24,
   "metadata": {},
   "outputs": [],
   "source": [
    "# Encoding 'Jamais' -> `0`, 'Parfois' -> `1`, 'Très souvent' -> `2`, 'Presque toujours' -> `3`\n",
    "def custom_encoding_8(x):\n",
    "    if x == 'Jamais':\n",
    "        return 0\n",
    "    elif x == 'Parfois':\n",
    "        return 1\n",
    "    elif x == 'Très souvent':\n",
    "        return 2\n",
    "    elif x == 'Presque toujours':\n",
    "        return 3\n",
    "    elif pd.isnull(x):\n",
    "        return np.nan\n",
    "    else:\n",
    "        return x\n",
    "    \n",
    "data['HADS008. 8. J’ai l’impression de fonctionner au ralenti :'] = data['HADS008. 8. J’ai l’impression de fonctionner au ralenti :'].apply(custom_encoding_8)"
   ]
  },
  {
   "cell_type": "code",
   "execution_count": 25,
   "metadata": {},
   "outputs": [],
   "source": [
    "# Encoding 'Jamais' -> `0`, 'Parfois' -> `1`, 'Assez souvent' -> `2`, 'Très souvent' -> `3`\n",
    "def custom_encoding_9(x):\n",
    "    if x == 'Jamais':\n",
    "        return 0\n",
    "    elif x == 'Parfois':\n",
    "        return 1\n",
    "    elif x == 'Assez souvent':\n",
    "        return 2\n",
    "    elif x == 'Très souvent':\n",
    "        return 3\n",
    "    elif pd.isnull(x):\n",
    "        return np.nan\n",
    "    else:\n",
    "        return x\n",
    "    \n",
    "data['HADS009. 9. J’éprouve des sensations de peur et j’ai l’estomac noué :'] = data['HADS009. 9. J’éprouve des sensations de peur et j’ai l’estomac noué :'].apply(custom_encoding_9)\n"
   ]
  },
  {
   "cell_type": "code",
   "execution_count": 26,
   "metadata": {},
   "outputs": [],
   "source": [
    "# Encoding 'Plus du tout' -> `0`, 'Je n’y accorde pas autant d’attention que je devrais' -> `1`, 'Il se peut que je n’y fasse plus autant attention' -> `2`, 'J’y prête autant d’attention que par le passé' -> `3`\n",
    "def custom_encoding_10(x):\n",
    "    if x == 'Plus du tout':\n",
    "        return 0\n",
    "    elif x == 'Je n’y accorde pas autant d’attention que je devrais':\n",
    "        return 1\n",
    "    elif x == 'Il se peut que je n’y fasse plus autant attention':\n",
    "        return 2\n",
    "    elif x == 'J’y prête autant d’attention que par le passé':\n",
    "        return 3\n",
    "    elif pd.isnull(x):\n",
    "        return np.nan\n",
    "    else:\n",
    "        return x\n",
    "    \n",
    "data['HADS010. 10. Je ne m’intéresse plus à mon apparence :'] = data['HADS010. 10. Je ne m’intéresse plus à mon apparence :'].apply(custom_encoding_10)"
   ]
  },
  {
   "cell_type": "code",
   "execution_count": 27,
   "metadata": {},
   "outputs": [],
   "source": [
    "# Encoding 'Pas du tout' -> `0`, 'Pas tellement' -> `1`, 'Un peu' -> `2`, 'Oui, c’est tout à fait le cas' -> `3`\n",
    "def custom_encoding_11(x):\n",
    "    if x == 'Pas du tout':\n",
    "        return 0\n",
    "    elif x == 'Pas tellement':\n",
    "        return 1\n",
    "    elif x == 'Un peu':\n",
    "        return 2\n",
    "    elif x == 'Oui, c’est tout à fait le cas':\n",
    "        return 3\n",
    "    elif pd.isnull(x):\n",
    "        return np.nan\n",
    "    else:\n",
    "        return x\n",
    "    \n",
    "data['HADS011. 11. J’ai la bougeotte et n’arrive pas à tenir en place :'] = data['HADS011. 11. J’ai la bougeotte et n’arrive pas à tenir en place :'].apply(custom_encoding_11)"
   ]
  },
  {
   "cell_type": "code",
   "execution_count": 28,
   "metadata": {},
   "outputs": [],
   "source": [
    "# Encoding 'Presque jamais' -> `0`, 'Bien moins qu’avant' -> `1`, 'Un peu moins qu’avant' -> `2`, 'Autant qu’avant' -> `3`\n",
    "def custom_encoding_12(x):\n",
    "    if x == 'Presque jamais':\n",
    "        return 0\n",
    "    elif x == 'Bien moins qu’avant':\n",
    "        return 1\n",
    "    elif x == 'Un peu moins qu’avant':\n",
    "        return 2\n",
    "    elif x == 'Autant qu’avant':\n",
    "        return 3\n",
    "    elif pd.isnull(x):\n",
    "        return np.nan\n",
    "    else:\n",
    "        return x\n",
    "    \n",
    "data['HADS012. 12. Je me réjouis d’avance à l’idée de faire certaines choses :'] = data['HADS012. 12. Je me réjouis d’avance à l’idée de faire certaines choses :'].apply(custom_encoding_12)"
   ]
  },
  {
   "cell_type": "code",
   "execution_count": 29,
   "metadata": {},
   "outputs": [],
   "source": [
    "# Encoding 'Jamais' -> `0`, 'Pas très souvent' -> `1`, 'Assez souvent' -> `2`, 'Vraiment très souvent' -> `3`\n",
    "def custom_encoding_13(x):\n",
    "    if x == 'Jamais':\n",
    "        return 0\n",
    "    elif x == 'Pas très souvent':\n",
    "        return 1\n",
    "    elif x == 'Assez souvent':\n",
    "        return 2\n",
    "    elif x == 'Vraiment très souvent':\n",
    "        return 3\n",
    "    elif pd.isnull(x):\n",
    "        return np.nan\n",
    "    else:\n",
    "        return x\n",
    "    \n",
    "data['HADS013. 13. J’éprouve des sensations soudaines de panique :'] = data['HADS013. 13. J’éprouve des sensations soudaines de panique :'].apply(custom_encoding_13)"
   ]
  },
  {
   "cell_type": "code",
   "execution_count": 30,
   "metadata": {},
   "outputs": [],
   "source": [
    "# Encoding 'Très rarement' -> `0`, 'Rarement' -> `1`, 'Parfois' -> `2`, 'Souvent' -> `3`\n",
    "def custom_encoding_14(x):\n",
    "    if x == 'Très rarement':\n",
    "        return 0\n",
    "    elif x == 'Rarement':\n",
    "        return 1\n",
    "    elif x == 'Parfois':\n",
    "        return 2\n",
    "    elif x == 'Souvent':\n",
    "        return 3\n",
    "    elif pd.isnull(x):\n",
    "        return np.nan\n",
    "    else:\n",
    "        return x\n",
    "    \n",
    "data['HADS014. 14. Je peux prendre plaisir à un bon livre ou à une bonne émission de radio ou de télévision :'] = data['HADS014. 14. Je peux prendre plaisir à un bon livre ou à une bonne émission de radio ou de télévision :'].apply(custom_encoding_14)"
   ]
  },
  {
   "cell_type": "code",
   "execution_count": 33,
   "metadata": {},
   "outputs": [
    {
     "name": "stderr",
     "output_type": "stream",
     "text": [
      "C:\\Users\\matth\\AppData\\Local\\Temp\\ipykernel_12084\\2265324693.py:16: FutureWarning: DataFrame.applymap has been deprecated. Use DataFrame.map instead.\n",
      "  data = data.applymap(custom_encoding_15)\n"
     ]
    }
   ],
   "source": [
    "# Encoding 'Pas du tout' -> `0`, 'Un peu' -> `1`, 'Assez' -> `2`, 'Beaucoup' -> `3` to all data\n",
    "def custom_encoding_15(x):\n",
    "    if x == 'Pas du tout':\n",
    "        return 0\n",
    "    elif x == 'Un peu':\n",
    "        return 1\n",
    "    elif x == 'Assez':\n",
    "        return 2\n",
    "    elif x == 'Beaucoup':\n",
    "        return 3\n",
    "    elif pd.isnull(x):\n",
    "        return np.nan\n",
    "    else:\n",
    "        return x\n",
    "\n",
    "data = data.applymap(custom_encoding_15)\n"
   ]
  },
  {
   "cell_type": "code",
   "execution_count": 31,
   "metadata": {},
   "outputs": [],
   "source": [
    "# Encode '0' -> `0` , ['1 à 2 fois', 'Plus de 1'] -> `1` , 'Plus de 2 fois' -> `2` to FRAGIRE02 and FRAGIRE 15 columns\n",
    "def custom_encoding_16(x):\n",
    "    if x == 0 :\n",
    "        return 0\n",
    "    elif x == \"1 à 2 fois\":\n",
    "        return 1\n",
    "    elif x == 'Plus de 2 fois':\n",
    "        return 2\n",
    "    elif pd.isnull(x):\n",
    "        return np.nan\n",
    "    else:\n",
    "        return x\n",
    "    \n",
    "data['FRAGIRE02.    Cochez la réponse qui conient le mieaux parmi celles proposés.  « Combien de fois avez-vous été hospitalisé(e) au cours des 6 derniers mois ? »'] = data['FRAGIRE02.    Cochez la réponse qui conient le mieaux parmi celles proposés.  « Combien de fois avez-vous été hospitalisé(e) au cours des 6 derniers mois ? »'].apply(custom_encoding_16)"
   ]
  },
  {
   "cell_type": "code",
   "execution_count": 35,
   "metadata": {},
   "outputs": [],
   "source": [
    "def custom_encoding_16_2(x):\n",
    "    if x == 0 :\n",
    "        return 0\n",
    "    elif x == 1 :\n",
    "        return 1\n",
    "    elif x == 'Plus de 1':\n",
    "        return 2\n",
    "    elif pd.isnull(x):\n",
    "        return np.nan\n",
    "    else:\n",
    "        return x\n",
    "\n",
    "data['FRAGIRE15.    « De combien de consultations dentaires annuelles avez-vous bénéficié ? »'] = data['FRAGIRE15.    « De combien de consultations dentaires annuelles avez-vous bénéficié ? »'].apply(custom_encoding_16_2)"
   ]
  },
  {
   "cell_type": "code",
   "execution_count": 6,
   "metadata": {},
   "outputs": [
    {
     "name": "stderr",
     "output_type": "stream",
     "text": [
      "C:\\Users\\matth\\AppData\\Local\\Temp\\ipykernel_12084\\3548132362.py:15: FutureWarning: DataFrame.applymap has been deprecated. Use DataFrame.map instead.\n",
      "  data = data.applymap(extract_number)\n"
     ]
    }
   ],
   "source": [
    "# Encode by extracting the number in parenthesis from the string\n",
    "def extract_number(value):\n",
    "    \"\"\"\n",
    "    Return only the numeric part of the string\n",
    "    \"\"\"\n",
    "    if pd.isnull(value):\n",
    "        return np.nan\n",
    "    elif isinstance(value, str):\n",
    "        match = re.search(r'\\((\\d+)\\)', value)\n",
    "        if match:\n",
    "            return int(match.group(1))\n",
    "    return value\n",
    "\n",
    "# Apply to all columns\n",
    "data = data.applymap(extract_number)\n"
   ]
  },
  {
   "cell_type": "code",
   "execution_count": 7,
   "metadata": {},
   "outputs": [
    {
     "name": "stderr",
     "output_type": "stream",
     "text": [
      "C:\\Users\\matth\\AppData\\Local\\Temp\\ipykernel_12084\\896753665.py:12: FutureWarning: DataFrame.applymap has been deprecated. Use DataFrame.map instead.\n",
      "  data = data.applymap(custom_encoding_17)\n"
     ]
    }
   ],
   "source": [
    "# Encode `CORRECT (1 points)` -> `1`, `INCORRECT (0 points)` -> `0`\n",
    "def custom_encoding_17(x):\n",
    "    if x == 'CORRECTE (1 point)':\n",
    "        return 1\n",
    "    elif x == 'INCORRECTE (0 point)':\n",
    "        return 0\n",
    "    elif pd.isnull(x):\n",
    "        return np.nan\n",
    "    else:\n",
    "        return x\n",
    "    \n",
    "data = data.applymap(custom_encoding_17)"
   ]
  },
  {
   "cell_type": "code",
   "execution_count": 8,
   "metadata": {},
   "outputs": [
    {
     "name": "stderr",
     "output_type": "stream",
     "text": [
      "C:\\Users\\matth\\AppData\\Local\\Temp\\ipykernel_12084\\2609199056.py:14: FutureWarning: DataFrame.applymap has been deprecated. Use DataFrame.map instead.\n",
      "  data = data.applymap(custom_encoding_18)\n"
     ]
    }
   ],
   "source": [
    "# Encode `Maintenu pendant 10 s (1 point)` and `Maintenu pendant 10 s` -> `1`, `Tenu pendant 3 à 9,99 s` -> `0.5`,  `Non tenté` and `Tenu pendant un temps inférieur à 3 s` and `Non maintenu pendant 10 s` -> `0`\n",
    "def custom_encoding_18(x):\n",
    "    if x in ['Maintenu pendant 10 s (1 point)', 'Maintenu pendant 10 s']:\n",
    "        return 1\n",
    "    elif x == 'Tenu pendant 3 à 9,99 s':\n",
    "        return 0.5\n",
    "    elif x in ['Non tenté', 'Tenu pendant un temps inférieur à 3 s', 'Non maintenu pendant 10 s']:\n",
    "        return 0\n",
    "    elif pd.isnull(x):\n",
    "        return np.nan\n",
    "    else:\n",
    "        return x\n",
    "    \n",
    "data = data.applymap(custom_encoding_18)\n"
   ]
  },
  {
   "cell_type": "code",
   "execution_count": 10,
   "metadata": {},
   "outputs": [
    {
     "name": "stderr",
     "output_type": "stream",
     "text": [
      "C:\\Users\\matth\\AppData\\Local\\Temp\\ipykernel_12084\\180658122.py:12: FutureWarning: DataFrame.applymap has been deprecated. Use DataFrame.map instead.\n",
      "  data = data.applymap(custom_encoding_19)\n"
     ]
    }
   ],
   "source": [
    "# Encode `Le participant s'est tenu debout sans utiliser les bras → Aller au test du levé de chaise répétée` -> `1`, `Le participant a utilisé les bras pour se tenir debout → Fin du test` -> `0`\n",
    "def custom_encoding_19(x):\n",
    "    if x == 'Le participant s\\'est tenu debout sans utiliser les bras → Aller au test du levé de chaise répétée':\n",
    "        return 1\n",
    "    elif x == 'Le participant a utilisé les bras pour se tenir debout → Fin du test':\n",
    "        return 0\n",
    "    elif pd.isnull(x):\n",
    "        return np.nan\n",
    "    else:\n",
    "        return x\n",
    "    \n",
    "data = data.applymap(custom_encoding_19)\n",
    "\n"
   ]
  },
  {
   "cell_type": "code",
   "execution_count": 15,
   "metadata": {},
   "outputs": [],
   "source": [
    "# Encde `Aucune` -> `0`, `1-3 verres` -> `1`, `4-10 verres` -> `2`, `11+ verres` -> `3`\n",
    "def custom_encoding_20(x):\n",
    "    if x == 'Aucune':\n",
    "        return 0\n",
    "    elif x == '1-3 verres':\n",
    "        return 1\n",
    "    elif x == '4-10 verres':\n",
    "        return 2\n",
    "    elif x == '11+ verres':\n",
    "        return 3\n",
    "    elif pd.isnull(x):\n",
    "        return np.nan\n",
    "    else:\n",
    "        return x\n",
    "    \n",
    "data['FROPCOM0016. Nombre de boissons alcoolisées consommées au cours de la semaine écoulée ?'] = data['FROPCOM0016. Nombre de boissons alcoolisées consommées au cours de la semaine écoulée ?'].apply(custom_encoding_20)"
   ]
  },
  {
   "cell_type": "code",
   "execution_count": 16,
   "metadata": {},
   "outputs": [],
   "source": [
    "# Encode `Aucune ou principalement sédentaire` -> `0`, `Activité physique régulière (au moins 2-4 heures par semaine)` -> `1`.\n",
    "def custom_encoding_21(x):\n",
    "    if x == 'Aucune ou principalement sédentaire':\n",
    "        return 0\n",
    "    elif x == 'Activité physique régulière (au moins 2-4 heures par semaine)':\n",
    "        return 1\n",
    "    elif pd.isnull(x):\n",
    "        return np.nan\n",
    "    else:\n",
    "        return x\n",
    "    \n",
    "data['EXAMCLIN02. Quel est votre niveau d’activité physique ?'] = data['EXAMCLIN02. Quel est votre niveau d’activité physique ?'].apply(custom_encoding_21)"
   ]
  },
  {
   "cell_type": "code",
   "execution_count": 11,
   "metadata": {},
   "outputs": [
    {
     "name": "stderr",
     "output_type": "stream",
     "text": [
      "C:\\Users\\matth\\AppData\\Local\\Temp\\ipykernel_12084\\3458838820.py:10: FutureWarning: DataFrame.applymap has been deprecated. Use DataFrame.map instead.\n",
      "  data = data.applymap(custom_encoding_22)\n"
     ]
    }
   ],
   "source": [
    "# Encode `Je n'ai pas réalisé de visite d'évaluation`, `Je n'ai pas réalisé de visite d'évaluation / Je ne sais pas` -> `0`\n",
    "def custom_encoding_22(x):\n",
    "    if x in ['Je n\\'ai pas réalisé de visite d\\'évaluation', 'Je n\\'ai pas réalisé de visite d\\'évaluation / Je ne sais pas']:\n",
    "        return 0\n",
    "    elif pd.isnull(x):\n",
    "        return np.nan\n",
    "    else:\n",
    "        return x\n",
    "\n",
    "data = data.applymap(custom_encoding_22)\n"
   ]
  },
  {
   "cell_type": "code",
   "execution_count": 14,
   "metadata": {},
   "outputs": [],
   "source": [
    "# Encode `0` -> `0`, `1 fois` -> `1`, `2 fois` -> `2`, `3 fois ou plus` -> `3`\n",
    "def custom_encoding_23(x):\n",
    "    if x == 0:\n",
    "        return 0\n",
    "    elif x == '1 fois':\n",
    "        return 1\n",
    "    elif x == '2 fois':\n",
    "        return 2\n",
    "    elif x == '3 fois ou plus':\n",
    "        return 3\n",
    "    elif pd.isnull(x):\n",
    "        return np.nan\n",
    "    else:\n",
    "        return x\n",
    "    \n",
    "data['FROPCOM0001. Au cours des 12 derniers mois, avez-vous fait une chute ?'] = data['FROPCOM0001. Au cours des 12 derniers mois, avez-vous fait une chute ?'].apply(custom_encoding_23)\n"
   ]
  },
  {
   "cell_type": "code",
   "execution_count": 12,
   "metadata": {},
   "outputs": [
    {
     "name": "stderr",
     "output_type": "stream",
     "text": [
      "C:\\Users\\matth\\AppData\\Local\\Temp\\ipykernel_12084\\1455826056.py:12: FutureWarning: DataFrame.applymap has been deprecated. Use DataFrame.map instead.\n",
      "  data = data.applymap(custom_encoding_24)\n"
     ]
    }
   ],
   "source": [
    "# Encode `REUSSITE` -> `1`, `ECHEC` -> `0`\n",
    "def custom_encoding_24(x):\n",
    "    if x == 'REUSSITE':\n",
    "        return 1\n",
    "    elif x == 'ECHEC':\n",
    "        return 0\n",
    "    elif pd.isnull(x):\n",
    "        return np.nan\n",
    "    else:\n",
    "        return x\n",
    "    \n",
    "data = data.applymap(custom_encoding_24)"
   ]
  },
  {
   "cell_type": "code",
   "execution_count": 13,
   "metadata": {},
   "outputs": [
    {
     "name": "stderr",
     "output_type": "stream",
     "text": [
      "C:\\Users\\matth\\AppData\\Local\\Temp\\ipykernel_12084\\3263528216.py:14: FutureWarning: DataFrame.applymap has been deprecated. Use DataFrame.map instead.\n",
      "  data = data.applymap(custom_encoding_25)\n"
     ]
    }
   ],
   "source": [
    "# Encode 3/60' -> 1, '6/60' -> 2, '6/18' -> 3\n",
    "def custom_encoding_25(x):\n",
    "    if x == '3/60':\n",
    "        return 1\n",
    "    elif x == '6/60':\n",
    "        return 2\n",
    "    elif x == '6/18':\n",
    "        return 3\n",
    "    elif pd.isnull(x):\n",
    "        return np.nan\n",
    "    else:\n",
    "        return x\n",
    "    \n",
    "data = data.applymap(custom_encoding_25)\n"
   ]
  },
  {
   "cell_type": "code",
   "execution_count": 37,
   "metadata": {},
   "outputs": [],
   "source": [
    "def custom_encoding_23(x):\n",
    "    if x == \"Mild falls risk\":\n",
    "        return 0\n",
    "    elif x == \"Moderate falls risk\":\n",
    "        return 1\n",
    "    elif x == \"High falls risk\":\n",
    "        return 2\n",
    "    elif pd.isnull(x):\n",
    "        return np.nan\n",
    "    else:\n",
    "        return x\n",
    "    \n",
    "data['FROP COM INTERPRETATION'] = data['FROP COM INTERPRETATION'].apply(custom_encoding_23)"
   ]
  },
  {
   "cell_type": "code",
   "execution_count": 38,
   "metadata": {},
   "outputs": [
    {
     "name": "stderr",
     "output_type": "stream",
     "text": [
      "C:\\Users\\matth\\AppData\\Local\\Temp\\ipykernel_12084\\3865021681.py:5: FutureWarning: errors='ignore' is deprecated and will raise in a future version. Use to_numeric without passing `errors` and catch exceptions explicitly instead\n",
      "  data = data.apply(pd.to_numeric, errors='ignore')\n"
     ]
    }
   ],
   "source": [
    "# Replace ',' with '.'\n",
    "data = data.replace(',', '.', regex=True)\n",
    "\n",
    "# Convert to float\n",
    "data = data.apply(pd.to_numeric, errors='ignore')"
   ]
  },
  {
   "cell_type": "code",
   "execution_count": 39,
   "metadata": {},
   "outputs": [],
   "source": [
    "# Calcul de la variation absolue\n",
    "data['SPPB_06_07_Variation_Vitesse_Absolue'] = data[\"SPPB7. Temps pour le deuxième test de vitesse de marche (en secondes, avec séparateur par point ex : 23.28 secondes)\"] - data[\"SPPB06. Maintenant, je vais observer comment vous marchez normalement. Si vous utilisez une canne ou une autre aide à la marche et que vous sentez que vous en avez besoin pour marcher sur une courte distance, vous pouvez l'utiliser.      Temps pour le premier test de vitesse de marche (secondes, séparateur par point ex : 23.82 secondes)\"]\n",
    "\n",
    "# Calcul de la variation relative (en pourcentage)\n",
    "data['SPPB_06_07_Variation_Vitesse_Relative'] = ((data[\"SPPB7. Temps pour le deuxième test de vitesse de marche (en secondes, avec séparateur par point ex : 23.28 secondes)\"] - data[\"SPPB06. Maintenant, je vais observer comment vous marchez normalement. Si vous utilisez une canne ou une autre aide à la marche et que vous sentez que vous en avez besoin pour marcher sur une courte distance, vous pouvez l'utiliser.      Temps pour le premier test de vitesse de marche (secondes, séparateur par point ex : 23.82 secondes)\"]) / data[\"SPPB06. Maintenant, je vais observer comment vous marchez normalement. Si vous utilisez une canne ou une autre aide à la marche et que vous sentez que vous en avez besoin pour marcher sur une courte distance, vous pouvez l'utiliser.      Temps pour le premier test de vitesse de marche (secondes, séparateur par point ex : 23.82 secondes)\"]) * 100\n"
   ]
  },
  {
   "cell_type": "code",
   "execution_count": 40,
   "metadata": {},
   "outputs": [],
   "source": [
    "# save the encoded data\n",
    "input_path = \"p:/Thesis/input\"\n",
    "data.to_excel(f\"{input_path}/df_questions_encoded_v2.xlsx\", index=False)\n"
   ]
  }
 ],
 "metadata": {
  "kernelspec": {
   "display_name": "sklearn-env",
   "language": "python",
   "name": "python3"
  },
  "language_info": {
   "codemirror_mode": {
    "name": "ipython",
    "version": 3
   },
   "file_extension": ".py",
   "mimetype": "text/x-python",
   "name": "python",
   "nbconvert_exporter": "python",
   "pygments_lexer": "ipython3",
   "version": "3.13.0"
  },
  "orig_nbformat": 4
 },
 "nbformat": 4,
 "nbformat_minor": 2
}
